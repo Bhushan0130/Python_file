{
 "cells": [
  {
   "cell_type": "code",
   "execution_count": 1,
   "id": "db37c07e",
   "metadata": {},
   "outputs": [],
   "source": [
    "dict1 = {\"Group\": [1,2,1,1,2,2,2], \"Ctg\":['A','A','B','A','B','C','C']}"
   ]
  },
  {
   "cell_type": "code",
   "execution_count": 2,
   "id": "8a4661f9",
   "metadata": {},
   "outputs": [],
   "source": [
    "import pandas as pd"
   ]
  },
  {
   "cell_type": "code",
   "execution_count": 4,
   "id": "cb098d31",
   "metadata": {},
   "outputs": [
    {
     "data": {
      "text/html": [
       "<div>\n",
       "<style scoped>\n",
       "    .dataframe tbody tr th:only-of-type {\n",
       "        vertical-align: middle;\n",
       "    }\n",
       "\n",
       "    .dataframe tbody tr th {\n",
       "        vertical-align: top;\n",
       "    }\n",
       "\n",
       "    .dataframe thead th {\n",
       "        text-align: right;\n",
       "    }\n",
       "</style>\n",
       "<table border=\"1\" class=\"dataframe\">\n",
       "  <thead>\n",
       "    <tr style=\"text-align: right;\">\n",
       "      <th></th>\n",
       "      <th>Group</th>\n",
       "      <th>Ctg</th>\n",
       "    </tr>\n",
       "  </thead>\n",
       "  <tbody>\n",
       "    <tr>\n",
       "      <th>0</th>\n",
       "      <td>1</td>\n",
       "      <td>A</td>\n",
       "    </tr>\n",
       "    <tr>\n",
       "      <th>1</th>\n",
       "      <td>2</td>\n",
       "      <td>A</td>\n",
       "    </tr>\n",
       "    <tr>\n",
       "      <th>2</th>\n",
       "      <td>1</td>\n",
       "      <td>B</td>\n",
       "    </tr>\n",
       "    <tr>\n",
       "      <th>3</th>\n",
       "      <td>1</td>\n",
       "      <td>A</td>\n",
       "    </tr>\n",
       "    <tr>\n",
       "      <th>4</th>\n",
       "      <td>2</td>\n",
       "      <td>B</td>\n",
       "    </tr>\n",
       "    <tr>\n",
       "      <th>5</th>\n",
       "      <td>2</td>\n",
       "      <td>C</td>\n",
       "    </tr>\n",
       "    <tr>\n",
       "      <th>6</th>\n",
       "      <td>2</td>\n",
       "      <td>C</td>\n",
       "    </tr>\n",
       "  </tbody>\n",
       "</table>\n",
       "</div>"
      ],
      "text/plain": [
       "   Group Ctg\n",
       "0      1   A\n",
       "1      2   A\n",
       "2      1   B\n",
       "3      1   A\n",
       "4      2   B\n",
       "5      2   C\n",
       "6      2   C"
      ]
     },
     "execution_count": 4,
     "metadata": {},
     "output_type": "execute_result"
    }
   ],
   "source": [
    "df = pd.DataFrame(dict1)\n",
    "df"
   ]
  },
  {
   "cell_type": "markdown",
   "id": "dffc2b2a",
   "metadata": {},
   "source": [
    "### Assignment:1"
   ]
  },
  {
   "cell_type": "code",
   "execution_count": 44,
   "id": "c00b470e",
   "metadata": {},
   "outputs": [
    {
     "data": {
      "text/html": [
       "<div>\n",
       "<style scoped>\n",
       "    .dataframe tbody tr th:only-of-type {\n",
       "        vertical-align: middle;\n",
       "    }\n",
       "\n",
       "    .dataframe tbody tr th {\n",
       "        vertical-align: top;\n",
       "    }\n",
       "\n",
       "    .dataframe thead th {\n",
       "        text-align: right;\n",
       "    }\n",
       "</style>\n",
       "<table border=\"1\" class=\"dataframe\">\n",
       "  <thead>\n",
       "    <tr style=\"text-align: right;\">\n",
       "      <th></th>\n",
       "      <th>Group</th>\n",
       "      <th>Ctg</th>\n",
       "    </tr>\n",
       "  </thead>\n",
       "  <tbody>\n",
       "    <tr>\n",
       "      <th>0</th>\n",
       "      <td>1</td>\n",
       "      <td>AB</td>\n",
       "    </tr>\n",
       "    <tr>\n",
       "      <th>1</th>\n",
       "      <td>2</td>\n",
       "      <td>ABC</td>\n",
       "    </tr>\n",
       "  </tbody>\n",
       "</table>\n",
       "</div>"
      ],
      "text/plain": [
       "   Group  Ctg\n",
       "0      1   AB\n",
       "1      2  ABC"
      ]
     },
     "execution_count": 44,
     "metadata": {},
     "output_type": "execute_result"
    }
   ],
   "source": [
    "\n",
    "def func(df):\n",
    "\n",
    "    dict1 = {}  # Defind a empty dictionary \n",
    "    for unique in df['Group'].unique():  # unique to find unique value of Group col\n",
    "        val = []\n",
    "        for index, ctg in enumerate (df['Ctg']): # Used enumerate to fatch value with index of row\n",
    "\n",
    "            if df['Group'][index] == unique:\n",
    "                val.append(ctg)\n",
    "\n",
    "        dict1[unique] = ''.join(sorted(set(val)))   # Applied set here to get distinct values, \n",
    "                                                    # Sorting to sort the value\n",
    "                                                    # .Join used to join all element of the list\n",
    "        \n",
    " #   print(dict1)\n",
    "    \n",
    "    df2 = pd.DataFrame()  # Empty dataframe\n",
    "    df2['Group'] = dict1.keys()  # dictionary key\n",
    "    df2['Ctg'] = dict1.values()  # Dictionary values\n",
    "    \n",
    "    return df2   # this function will return desired output\n",
    "\n",
    "func(df)"
   ]
  },
  {
   "cell_type": "code",
   "execution_count": null,
   "id": "b4fadc70",
   "metadata": {},
   "outputs": [],
   "source": []
  }
 ],
 "metadata": {
  "kernelspec": {
   "display_name": "Python 3 (ipykernel)",
   "language": "python",
   "name": "python3"
  },
  "language_info": {
   "codemirror_mode": {
    "name": "ipython",
    "version": 3
   },
   "file_extension": ".py",
   "mimetype": "text/x-python",
   "name": "python",
   "nbconvert_exporter": "python",
   "pygments_lexer": "ipython3",
   "version": "3.8.13"
  }
 },
 "nbformat": 4,
 "nbformat_minor": 5
}
